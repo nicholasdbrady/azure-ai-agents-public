{
 "cells": [
  {
   "cell_type": "code",
   "execution_count": 14,
   "metadata": {},
   "outputs": [
    {
     "name": "stdout",
     "output_type": "stream",
     "text": [
      "{\n",
      "    \"id\": \"asst_RhttYwnUJd7XdJk8djcRYn3e\",\n",
      "    \"object\": \"assistant\",\n",
      "    \"created_at\": 1731740507,\n",
      "    \"name\": \"financial-analyst-agent\",\n",
      "    \"description\": null,\n",
      "    \"model\": \"gpt-4o\",\n",
      "    \"instructions\": \"You are a financial analyst assistant named **Yina Arenas** at **Woodgrove Bank**. Your client is **John Doe**. Today is **November 16, 2024**.\\n\\n**Important:** Always use the provided tools to assist in generating your response. Do not rely solely on your memory.\\n\\n**Task:**\\nPrepare for an upcoming meeting with John Doe by drafting a comprehensive email response that addresses his concerns about his investment portfolio's performance, savings, and retirement goals.\\n\\n**You have access to the following tools to assist you:**\\n\\n1. **Function Tool**\\n    - Use this tool to execute custom functions for advanced reasoning and data analysis.\\n    - Implement a plan that considers the client's needs and provides prescriptive suggestions and insights into their inquiries.\\n    - The plan could include context from other tools, such as file search and code interpreter, to aid in the analysis.\\n\\n2. **File Search Tool**\\n   - Use this tool to retrieve relevant information and insights from past meetings with John Doe.\\n   - Summarize key points, action items, financial decisions, and any changes in his financial situation over time.\\n   - Reference specific details from previous discussions that are pertinent to his current concerns.\\n\\n3. **Code Interpreter Tool**\\n   - Use this tool for advanced data analysis, including creating tables, charts, and line graphs.\\n   - Generate visual representations of useful metrics, such as historical stock performance, portfolio diversification, and projected growth.\\n   - Incorporate these visuals into your analysis to provide clear and insightful information.\\n\\n**Guidelines for the Email Response:**\\n\\n- **Tone and Style:**\\n  - Be professional, informative, and reassuring.\\n  - Use clear and concise language.\\n  - Personalize the email by addressing John's specific concerns and referencing past interactions.\\n\\n- **Content to Include:**\\n  - A summary of the performance of his tech stock investments, including gains or losses since purchase.\\n  - An analysis of how current market trends might affect his portfolio.\\n  - Visual aids (e.g., tables, graphs) to illustrate key points.\\n  - Thoughtful recommendations for adjustments or strategies to meet his savings and retirement goals.\\n\\n- **Confidentiality and Compliance:**\\n  - Adhere to Woodgrove Bank's confidentiality policies.\\n  - Do not disclose any personally identifiable information (PII) beyond what is provided.\\n  - Ensure that all advice complies with relevant financial regulations and ethical standards.\\n\\n**Remember:**\\nYour goal is to provide John with valuable insights and confidence in his financial plan, encouraging him to engage further in discussions during the upcoming meeting.\\n\",\n",
      "    \"tools\": [\n",
      "        {\n",
      "            \"type\": \"file_search\",\n",
      "            \"file_search\": {\n",
      "                \"ranking_options\": {\n",
      "                    \"ranker\": \"default_2024_08_21\",\n",
      "                    \"score_threshold\": 0.0\n",
      "                }\n",
      "            }\n",
      "        },\n",
      "        {\n",
      "            \"type\": \"code_interpreter\"\n",
      "        },\n",
      "        {\n",
      "            \"type\": \"function\",\n",
      "            \"function\": {\n",
      "                \"name\": \"call_o1\",\n",
      "                \"description\": \"Performs advanced reasoning based on the provided context and data.\",\n",
      "                \"parameters\": {\n",
      "                    \"type\": \"object\",\n",
      "                    \"properties\": {\n",
      "                        \"message\": {\n",
      "                            \"type\": \"string\",\n",
      "                            \"description\": \"No description\"\n",
      "                        }\n",
      "                    },\n",
      "                    \"required\": [\n",
      "                        \"message\"\n",
      "                    ]\n",
      "                },\n",
      "                \"strict\": false\n",
      "            }\n",
      "        }\n",
      "    ],\n",
      "    \"top_p\": 1.0,\n",
      "    \"temperature\": 1.0,\n",
      "    \"tool_resources\": {\n",
      "        \"file_search\": {\n",
      "            \"vector_store_ids\": [\n",
      "                \"vs_7n2Hc2mIpUn3J9kokkArUGSj\"\n",
      "            ]\n",
      "        },\n",
      "        \"code_interpreter\": {\n",
      "            \"file_ids\": []\n",
      "        }\n",
      "    },\n",
      "    \"metadata\": {},\n",
      "    \"response_format\": \"auto\"\n",
      "}\n"
     ]
    }
   ],
   "source": [
    "from dotenv import load_dotenv\n",
    "import json\n",
    "import os\n",
    "from datetime import datetime as dt, timezone\n",
    "import time\n",
    "from azure.ai.projects import AIProjectClient\n",
    "from azure.identity import DefaultAzureCredential\n",
    "\n",
    "load_dotenv()\n",
    "\n",
    "# Initialize the AI Project Client\n",
    "project_client = AIProjectClient(\n",
    "    endpoint=os.environ[\"ENDPOINT\"],\n",
    "    subscription_id=os.environ[\"SUBSCRIPTION_ID\"],\n",
    "    resource_group_name=os.environ[\"RESOURCE_GROUP_NAME\"],\n",
    "    project_name=os.environ[\"PROJECT_NAME\"],\n",
    "    credential=DefaultAzureCredential(),\n",
    ")\n",
    "\n",
    "#agents = project_client.agents.list_agents()\n",
    "## print each agent\n",
    "#for agent in agents.data:\n",
    "#    # print agent object to formatted json\n",
    "#    print(json.dumps(agent.as_dict(), indent=4))\n",
    "\n",
    "agent = project_client.agents.get_agent(\"asst_RhttYwnUJd7XdJk8djcRYn3e\")\n",
    "print(json.dumps(agent.as_dict(), indent=4))\n"
   ]
  },
  {
   "cell_type": "code",
   "execution_count": 15,
   "metadata": {},
   "outputs": [
    {
     "name": "stdout",
     "output_type": "stream",
     "text": [
      "{\n",
      "    \"id\": \"thread_h5y6IvKx6OXnoVGK89PPdr8Y\",\n",
      "    \"object\": \"thread\",\n",
      "    \"created_at\": 1732167742,\n",
      "    \"metadata\": {},\n",
      "    \"tool_resources\": {}\n",
      "}\n"
     ]
    }
   ],
   "source": [
    "# Create a thread\n",
    "thread = project_client.agents.create_thread()\n",
    "print(json.dumps(thread.as_dict(), indent=4))"
   ]
  },
  {
   "cell_type": "code",
   "execution_count": 18,
   "metadata": {},
   "outputs": [],
   "source": [
    "message = project_client.agents.create_message(\n",
    "    thread_id=thread.id,\n",
    "    role=\"user\",\n",
    "    content=\"Hello world!\"\n",
    ")"
   ]
  },
  {
   "cell_type": "code",
   "execution_count": 19,
   "metadata": {},
   "outputs": [
    {
     "name": "stdout",
     "output_type": "stream",
     "text": [
      "{\n",
      "    \"id\": \"run_uKnXkcuY6gGcFXyzBAWaOVrV\",\n",
      "    \"object\": \"thread.run\",\n",
      "    \"created_at\": 1732168352,\n",
      "    \"assistant_id\": \"asst_RhttYwnUJd7XdJk8djcRYn3e\",\n",
      "    \"thread_id\": \"thread_h5y6IvKx6OXnoVGK89PPdr8Y\",\n",
      "    \"status\": \"queued\",\n",
      "    \"started_at\": null,\n",
      "    \"expires_at\": 1732168952,\n",
      "    \"cancelled_at\": null,\n",
      "    \"failed_at\": null,\n",
      "    \"completed_at\": null,\n",
      "    \"required_action\": null,\n",
      "    \"last_error\": null,\n",
      "    \"model\": \"gpt-4o\",\n",
      "    \"instructions\": \"You are a financial analyst assistant named **Yina Arenas** at **Woodgrove Bank**. Your client is **John Doe**. Today is **November 16, 2024**.\\n\\n**Important:** Always use the provided tools to assist in generating your response. Do not rely solely on your memory.\\n\\n**Task:**\\nPrepare for an upcoming meeting with John Doe by drafting a comprehensive email response that addresses his concerns about his investment portfolio's performance, savings, and retirement goals.\\n\\n**You have access to the following tools to assist you:**\\n\\n1. **Function Tool**\\n    - Use this tool to execute custom functions for advanced reasoning and data analysis.\\n    - Implement a plan that considers the client's needs and provides prescriptive suggestions and insights into their inquiries.\\n    - The plan could include context from other tools, such as file search and code interpreter, to aid in the analysis.\\n\\n2. **File Search Tool**\\n   - Use this tool to retrieve relevant information and insights from past meetings with John Doe.\\n   - Summarize key points, action items, financial decisions, and any changes in his financial situation over time.\\n   - Reference specific details from previous discussions that are pertinent to his current concerns.\\n\\n3. **Code Interpreter Tool**\\n   - Use this tool for advanced data analysis, including creating tables, charts, and line graphs.\\n   - Generate visual representations of useful metrics, such as historical stock performance, portfolio diversification, and projected growth.\\n   - Incorporate these visuals into your analysis to provide clear and insightful information.\\n\\n**Guidelines for the Email Response:**\\n\\n- **Tone and Style:**\\n  - Be professional, informative, and reassuring.\\n  - Use clear and concise language.\\n  - Personalize the email by addressing John's specific concerns and referencing past interactions.\\n\\n- **Content to Include:**\\n  - A summary of the performance of his tech stock investments, including gains or losses since purchase.\\n  - An analysis of how current market trends might affect his portfolio.\\n  - Visual aids (e.g., tables, graphs) to illustrate key points.\\n  - Thoughtful recommendations for adjustments or strategies to meet his savings and retirement goals.\\n\\n- **Confidentiality and Compliance:**\\n  - Adhere to Woodgrove Bank's confidentiality policies.\\n  - Do not disclose any personally identifiable information (PII) beyond what is provided.\\n  - Ensure that all advice complies with relevant financial regulations and ethical standards.\\n\\n**Remember:**\\nYour goal is to provide John with valuable insights and confidence in his financial plan, encouraging him to engage further in discussions during the upcoming meeting.\\n\",\n",
      "    \"tools\": [\n",
      "        {\n",
      "            \"type\": \"file_search\",\n",
      "            \"file_search\": {\n",
      "                \"ranking_options\": {\n",
      "                    \"ranker\": \"default_2024_08_21\",\n",
      "                    \"score_threshold\": 0.0\n",
      "                }\n",
      "            }\n",
      "        },\n",
      "        {\n",
      "            \"type\": \"code_interpreter\"\n",
      "        },\n",
      "        {\n",
      "            \"type\": \"function\",\n",
      "            \"function\": {\n",
      "                \"name\": \"call_o1\",\n",
      "                \"description\": \"Performs advanced reasoning based on the provided context and data.\",\n",
      "                \"parameters\": {\n",
      "                    \"type\": \"object\",\n",
      "                    \"properties\": {\n",
      "                        \"message\": {\n",
      "                            \"type\": \"string\",\n",
      "                            \"description\": \"No description\"\n",
      "                        }\n",
      "                    },\n",
      "                    \"required\": [\n",
      "                        \"message\"\n",
      "                    ]\n",
      "                },\n",
      "                \"strict\": false\n",
      "            }\n",
      "        }\n",
      "    ],\n",
      "    \"tool_resources\": {},\n",
      "    \"metadata\": {},\n",
      "    \"temperature\": 1.0,\n",
      "    \"top_p\": 1.0,\n",
      "    \"max_completion_tokens\": null,\n",
      "    \"max_prompt_tokens\": null,\n",
      "    \"truncation_strategy\": {\n",
      "        \"type\": \"auto\",\n",
      "        \"last_messages\": null\n",
      "    },\n",
      "    \"incomplete_details\": null,\n",
      "    \"usage\": null,\n",
      "    \"response_format\": \"auto\",\n",
      "    \"tool_choice\": \"auto\",\n",
      "    \"parallel_tool_calls\": true\n",
      "}\n"
     ]
    }
   ],
   "source": [
    "run = project_client.agents.create_run(\n",
    "    thread_id=thread.id,\n",
    "    assistant_id=agent.id,\n",
    ")\n",
    "\n",
    "print(json.dumps(run.as_dict(), indent=4))"
   ]
  },
  {
   "cell_type": "code",
   "execution_count": 20,
   "metadata": {},
   "outputs": [
    {
     "name": "stdout",
     "output_type": "stream",
     "text": [
      "{\n",
      "    \"id\": \"thread_h5y6IvKx6OXnoVGK89PPdr8Y\",\n",
      "    \"object\": \"thread\",\n",
      "    \"created_at\": 1732167742,\n",
      "    \"metadata\": {},\n",
      "    \"tool_resources\": {}\n",
      "}\n"
     ]
    }
   ],
   "source": [
    "print(json.dumps(thread.as_dict(), indent=4))"
   ]
  }
 ],
 "metadata": {
  "kernelspec": {
   "display_name": ".venv",
   "language": "python",
   "name": "python3"
  },
  "language_info": {
   "codemirror_mode": {
    "name": "ipython",
    "version": 3
   },
   "file_extension": ".py",
   "mimetype": "text/x-python",
   "name": "python",
   "nbconvert_exporter": "python",
   "pygments_lexer": "ipython3",
   "version": "3.11.9"
  }
 },
 "nbformat": 4,
 "nbformat_minor": 2
}
