{
 "cells": [
  {
   "cell_type": "markdown",
   "metadata": {},
   "source": [
    "# **Sales Analyst Agent**"
   ]
  },
  {
   "cell_type": "markdown",
   "metadata": {},
   "source": [
    "## **About the Scenario**\n",
    "In this scenario, we analyze sales data for AdventureWorks using Azure OpenAI. The AI agent performs tasks such as file retrieval, sales calculations, and generating insights by leveraging tools like File Search. This showcases how businesses can employ Azure OpenAI Agents to streamline analytical workflows and decision making.\n",
    "\n",
    "Key Steps:\n",
    "\n",
    "1. *File Conversion*: Converting Excel data into a Markdown format compatible with the AI agent.\n",
    "2. *File Upload*: Storing the converted files in the Azure OpenAI Project for efficient processing.\n",
    "3. *AI-Powered Analysis*: Leveraging Azure OpenAI to generate insights such as revenue metrics by region.\n",
    "\n",
    "This hands-on demonstration will prepare you to use Azure OpenAI Assistants for similar real-world data engineering and analytics tasks."
   ]
  },
  {
   "cell_type": "markdown",
   "metadata": {},
   "source": [
    "## **Data**\n",
    "This scenario uses files from the folder [`data/`](./data/) in this repo. You can clone this repo or copy this folder to make sure you have access to these files when running the sample.\n",
    "\n",
    "The sales data is stored in multiple Excel files located in the data/ directory. These files contain essential details to simulate sales orders, which the AI agent will analyze.\n",
    "\n",
    "Ensure you have the following files ready in the data/ directory:\n",
    "\n",
    "- SalesOrder_43659.xlsx\n",
    "- SalesOrder_43661.xlsx\n",
    "- SalesOrder_43662.xlsx\n",
    "- SalesOrder_43665.xlsx"
   ]
  },
  {
   "cell_type": "markdown",
   "metadata": {},
   "source": [
    "## **Time**\n",
    "You should expect to spend 10-15 minutes building and running this scenario. "
   ]
  },
  {
   "cell_type": "markdown",
   "metadata": {},
   "source": [
    "## **Before you begin**"
   ]
  },
  {
   "cell_type": "markdown",
   "metadata": {},
   "source": [
    "#### Step 1: Install required libraries\n",
    "Installing dependencies directly within a Jupyter notebook is a good practice because it ensures that all required packages are installed in the correct versions, making the notebook self-contained and reproducible. This approach helps other users or collaborators to set up the environment quickly and avoid potential issues related to missing or incompatible packages."
   ]
  },
  {
   "cell_type": "code",
   "execution_count": 98,
   "metadata": {},
   "outputs": [
    {
     "name": "stdout",
     "output_type": "stream",
     "text": [
      "Requirement already satisfied: azure-ai-projects==1.0.0b1 in c:\\developer\\repos\\github\\azure-ai-agents\\samples\\investment_advisor\\.venv\\lib\\site-packages (from -r ./requirements.txt (line 1)) (1.0.0b1)Note: you may need to restart the kernel to use updated packages.\n",
      "\n",
      "Packages installed successfully.\n",
      "\n",
      "Requirement already satisfied: azure-identity==1.19.0 in c:\\developer\\repos\\github\\azure-ai-agents\\samples\\investment_advisor\\.venv\\lib\\site-packages (from -r ./requirements.txt (line 2)) (1.19.0)\n",
      "Requirement already satisfied: openpyxl==3.1.5 in c:\\developer\\repos\\github\\azure-ai-agents\\samples\\investment_advisor\\.venv\\lib\\site-packages (from -r ./requirements.txt (line 3)) (3.1.5)\n",
      "Requirement already satisfied: openai==1.55.0 in c:\\developer\\repos\\github\\azure-ai-agents\\samples\\investment_advisor\\.venv\\lib\\site-packages (from -r ./requirements.txt (line 4)) (1.55.0)\n",
      "Requirement already satisfied: pandas==2.2.3 in c:\\developer\\repos\\github\\azure-ai-agents\\samples\\investment_advisor\\.venv\\lib\\site-packages (from -r ./requirements.txt (line 5)) (2.2.3)\n",
      "Requirement already satisfied: python-dotenv==1.0.1 in c:\\developer\\repos\\github\\azure-ai-agents\\samples\\investment_advisor\\.venv\\lib\\site-packages (from -r ./requirements.txt (line 6)) (1.0.1)\n",
      "Requirement already satisfied: tabulate==0.9.0 in c:\\developer\\repos\\github\\azure-ai-agents\\samples\\investment_advisor\\.venv\\lib\\site-packages (from -r ./requirements.txt (line 7)) (0.9.0)\n",
      "Requirement already satisfied: isodate>=0.6.1 in c:\\developer\\repos\\github\\azure-ai-agents\\samples\\investment_advisor\\.venv\\lib\\site-packages (from azure-ai-projects==1.0.0b1->-r ./requirements.txt (line 1)) (0.7.2)\n",
      "Requirement already satisfied: azure-core>=1.30.0 in c:\\developer\\repos\\github\\azure-ai-agents\\samples\\investment_advisor\\.venv\\lib\\site-packages (from azure-ai-projects==1.0.0b1->-r ./requirements.txt (line 1)) (1.32.0)\n",
      "Requirement already satisfied: typing-extensions>=4.6.0 in c:\\developer\\repos\\github\\azure-ai-agents\\samples\\investment_advisor\\.venv\\lib\\site-packages (from azure-ai-projects==1.0.0b1->-r ./requirements.txt (line 1)) (4.12.2)\n",
      "Requirement already satisfied: cryptography>=2.5 in c:\\developer\\repos\\github\\azure-ai-agents\\samples\\investment_advisor\\.venv\\lib\\site-packages (from azure-identity==1.19.0->-r ./requirements.txt (line 2)) (43.0.3)\n",
      "Requirement already satisfied: msal>=1.30.0 in c:\\developer\\repos\\github\\azure-ai-agents\\samples\\investment_advisor\\.venv\\lib\\site-packages (from azure-identity==1.19.0->-r ./requirements.txt (line 2)) (1.31.1)\n",
      "Requirement already satisfied: msal-extensions>=1.2.0 in c:\\developer\\repos\\github\\azure-ai-agents\\samples\\investment_advisor\\.venv\\lib\\site-packages (from azure-identity==1.19.0->-r ./requirements.txt (line 2)) (1.2.0)\n",
      "Requirement already satisfied: et-xmlfile in c:\\developer\\repos\\github\\azure-ai-agents\\samples\\investment_advisor\\.venv\\lib\\site-packages (from openpyxl==3.1.5->-r ./requirements.txt (line 3)) (2.0.0)\n",
      "Requirement already satisfied: anyio<5,>=3.5.0 in c:\\developer\\repos\\github\\azure-ai-agents\\samples\\investment_advisor\\.venv\\lib\\site-packages (from openai==1.55.0->-r ./requirements.txt (line 4)) (4.6.2.post1)\n",
      "Requirement already satisfied: distro<2,>=1.7.0 in c:\\developer\\repos\\github\\azure-ai-agents\\samples\\investment_advisor\\.venv\\lib\\site-packages (from openai==1.55.0->-r ./requirements.txt (line 4)) (1.9.0)\n",
      "Requirement already satisfied: httpx<1,>=0.23.0 in c:\\developer\\repos\\github\\azure-ai-agents\\samples\\investment_advisor\\.venv\\lib\\site-packages (from openai==1.55.0->-r ./requirements.txt (line 4)) (0.27.2)\n",
      "Requirement already satisfied: jiter<1,>=0.4.0 in c:\\developer\\repos\\github\\azure-ai-agents\\samples\\investment_advisor\\.venv\\lib\\site-packages (from openai==1.55.0->-r ./requirements.txt (line 4)) (0.7.1)\n",
      "Requirement already satisfied: pydantic<3,>=1.9.0 in c:\\developer\\repos\\github\\azure-ai-agents\\samples\\investment_advisor\\.venv\\lib\\site-packages (from openai==1.55.0->-r ./requirements.txt (line 4)) (2.9.2)\n",
      "Requirement already satisfied: sniffio in c:\\developer\\repos\\github\\azure-ai-agents\\samples\\investment_advisor\\.venv\\lib\\site-packages (from openai==1.55.0->-r ./requirements.txt (line 4)) (1.3.1)\n",
      "Requirement already satisfied: tqdm>4 in c:\\developer\\repos\\github\\azure-ai-agents\\samples\\investment_advisor\\.venv\\lib\\site-packages (from openai==1.55.0->-r ./requirements.txt (line 4)) (4.67.0)\n",
      "Requirement already satisfied: numpy>=1.26.0 in c:\\developer\\repos\\github\\azure-ai-agents\\samples\\investment_advisor\\.venv\\lib\\site-packages (from pandas==2.2.3->-r ./requirements.txt (line 5)) (2.1.3)\n",
      "Requirement already satisfied: python-dateutil>=2.8.2 in c:\\developer\\repos\\github\\azure-ai-agents\\samples\\investment_advisor\\.venv\\lib\\site-packages (from pandas==2.2.3->-r ./requirements.txt (line 5)) (2.9.0.post0)\n",
      "Requirement already satisfied: pytz>=2020.1 in c:\\developer\\repos\\github\\azure-ai-agents\\samples\\investment_advisor\\.venv\\lib\\site-packages (from pandas==2.2.3->-r ./requirements.txt (line 5)) (2024.2)\n",
      "Requirement already satisfied: tzdata>=2022.7 in c:\\developer\\repos\\github\\azure-ai-agents\\samples\\investment_advisor\\.venv\\lib\\site-packages (from pandas==2.2.3->-r ./requirements.txt (line 5)) (2024.2)\n",
      "Requirement already satisfied: idna>=2.8 in c:\\developer\\repos\\github\\azure-ai-agents\\samples\\investment_advisor\\.venv\\lib\\site-packages (from anyio<5,>=3.5.0->openai==1.55.0->-r ./requirements.txt (line 4)) (3.10)\n",
      "Requirement already satisfied: requests>=2.21.0 in c:\\developer\\repos\\github\\azure-ai-agents\\samples\\investment_advisor\\.venv\\lib\\site-packages (from azure-core>=1.30.0->azure-ai-projects==1.0.0b1->-r ./requirements.txt (line 1)) (2.32.3)\n",
      "Requirement already satisfied: six>=1.11.0 in c:\\developer\\repos\\github\\azure-ai-agents\\samples\\investment_advisor\\.venv\\lib\\site-packages (from azure-core>=1.30.0->azure-ai-projects==1.0.0b1->-r ./requirements.txt (line 1)) (1.16.0)\n",
      "Requirement already satisfied: cffi>=1.12 in c:\\developer\\repos\\github\\azure-ai-agents\\samples\\investment_advisor\\.venv\\lib\\site-packages (from cryptography>=2.5->azure-identity==1.19.0->-r ./requirements.txt (line 2)) (1.17.1)\n",
      "Requirement already satisfied: certifi in c:\\developer\\repos\\github\\azure-ai-agents\\samples\\investment_advisor\\.venv\\lib\\site-packages (from httpx<1,>=0.23.0->openai==1.55.0->-r ./requirements.txt (line 4)) (2024.8.30)\n",
      "Requirement already satisfied: httpcore==1.* in c:\\developer\\repos\\github\\azure-ai-agents\\samples\\investment_advisor\\.venv\\lib\\site-packages (from httpx<1,>=0.23.0->openai==1.55.0->-r ./requirements.txt (line 4)) (1.0.6)\n",
      "Requirement already satisfied: h11<0.15,>=0.13 in c:\\developer\\repos\\github\\azure-ai-agents\\samples\\investment_advisor\\.venv\\lib\\site-packages (from httpcore==1.*->httpx<1,>=0.23.0->openai==1.55.0->-r ./requirements.txt (line 4)) (0.14.0)\n",
      "Requirement already satisfied: PyJWT<3,>=1.0.0 in c:\\developer\\repos\\github\\azure-ai-agents\\samples\\investment_advisor\\.venv\\lib\\site-packages (from PyJWT[crypto]<3,>=1.0.0->msal>=1.30.0->azure-identity==1.19.0->-r ./requirements.txt (line 2)) (2.10.0)\n",
      "Requirement already satisfied: portalocker<3,>=1.4 in c:\\developer\\repos\\github\\azure-ai-agents\\samples\\investment_advisor\\.venv\\lib\\site-packages (from msal-extensions>=1.2.0->azure-identity==1.19.0->-r ./requirements.txt (line 2)) (2.10.1)\n",
      "Requirement already satisfied: annotated-types>=0.6.0 in c:\\developer\\repos\\github\\azure-ai-agents\\samples\\investment_advisor\\.venv\\lib\\site-packages (from pydantic<3,>=1.9.0->openai==1.55.0->-r ./requirements.txt (line 4)) (0.7.0)\n",
      "Requirement already satisfied: pydantic-core==2.23.4 in c:\\developer\\repos\\github\\azure-ai-agents\\samples\\investment_advisor\\.venv\\lib\\site-packages (from pydantic<3,>=1.9.0->openai==1.55.0->-r ./requirements.txt (line 4)) (2.23.4)\n",
      "Requirement already satisfied: colorama in c:\\developer\\repos\\github\\azure-ai-agents\\samples\\investment_advisor\\.venv\\lib\\site-packages (from tqdm>4->openai==1.55.0->-r ./requirements.txt (line 4)) (0.4.6)\n",
      "Requirement already satisfied: pycparser in c:\\developer\\repos\\github\\azure-ai-agents\\samples\\investment_advisor\\.venv\\lib\\site-packages (from cffi>=1.12->cryptography>=2.5->azure-identity==1.19.0->-r ./requirements.txt (line 2)) (2.22)\n",
      "Requirement already satisfied: pywin32>=226 in c:\\developer\\repos\\github\\azure-ai-agents\\samples\\investment_advisor\\.venv\\lib\\site-packages (from portalocker<3,>=1.4->msal-extensions>=1.2.0->azure-identity==1.19.0->-r ./requirements.txt (line 2)) (308)\n",
      "Requirement already satisfied: charset-normalizer<4,>=2 in c:\\developer\\repos\\github\\azure-ai-agents\\samples\\investment_advisor\\.venv\\lib\\site-packages (from requests>=2.21.0->azure-core>=1.30.0->azure-ai-projects==1.0.0b1->-r ./requirements.txt (line 1)) (3.4.0)\n",
      "Requirement already satisfied: urllib3<3,>=1.21.1 in c:\\developer\\repos\\github\\azure-ai-agents\\samples\\investment_advisor\\.venv\\lib\\site-packages (from requests>=2.21.0->azure-core>=1.30.0->azure-ai-projects==1.0.0b1->-r ./requirements.txt (line 1)) (2.2.3)\n"
     ]
    }
   ],
   "source": [
    "# Install the packages\n",
    "%pip install -r ./requirements.txt\n",
    "\n",
    "print(\"\\nPackages installed successfully.\")"
   ]
  },
  {
   "cell_type": "markdown",
   "metadata": {},
   "source": [
    "#### Step 2: Setting up the environment\n",
    "Before we begin, we need to load the necessary environment variables from a `.env` file. These variables include sensitive information such as API keys and endpoint URLs, which are crucial for running the code successfully.\n",
    "\n",
    "Here’s what you need to do:\n",
    "- Ensure your `.env` file is properly configured in the `.venv/.env` format. We have provided an template `.env` file, `.env.example` for your reference.\n",
    "- Verify that all required secrets are included in the file before running the code.\n",
    "\n",
    "\n",
    "The `.env` file must contain the following secrets:\n",
    "- PROJECT_CONNECTION_STRING: URL to connect to the Azure OpenAI Project to access project resources.\n",
    "- AZURE_OPENAI_DEPLOYMENT: The name of the Azure OpenAI model deployment.\n",
    "\n",
    "Now, let’s load these variables and get started!\n",
    "\n",
    "<code style=\"background:yellow;color:black\">Note: Make sure to keep your `.env` file secure and avoid sharing it publicly. </code>\n",
    "\n",
    "*For more information about leveraging Python Virtual Environments can be found [here](https://docs.python.org/3/library/venv.html).*"
   ]
  },
  {
   "cell_type": "code",
   "execution_count": 99,
   "metadata": {},
   "outputs": [
    {
     "name": "stdout",
     "output_type": "stream",
     "text": [
      "Environment variables loaded successfully.\n"
     ]
    }
   ],
   "source": [
    "import os\n",
    "from dotenv import load_dotenv\n",
    "\n",
    "# Load environment variables from .env file\n",
    "load_dotenv()\n",
    "\n",
    "# Retrieve the secrets\n",
    "__PROJECT_CONNECTION_STRING = os.getenv(\"PROJECT_CONNECTION_STRING\")\n",
    "__AZURE_OPENAI_DEPLOYMENT = os.getenv(\"AZURE_OPENAI_DEPLOYMENT\")\n",
    "\n",
    "# Verify environment variables\n",
    "if not all([__PROJECT_CONNECTION_STRING, __AZURE_OPENAI_DEPLOYMENT]):\n",
    "    raise EnvironmentError(\"One or more environment variables are missing. Please check the .env file.\")\n",
    "else:\n",
    "    print(\"Environment variables loaded successfully.\")"
   ]
  },
  {
   "cell_type": "markdown",
   "metadata": {},
   "source": [
    "## **Azure OpenAI Agent Setup**"
   ]
  },
  {
   "cell_type": "markdown",
   "metadata": {},
   "source": [
    "### Step 1: Initializing the Azure AI Studio Project Client\n",
    "First, we will initialize the Azure AI Studio Project client using Azure’s `DefaultAzureCredential` for authentication, allowing seamless integration with Azure resources. You will need to log into Azure using the Azure CLI."
   ]
  },
  {
   "cell_type": "code",
   "execution_count": 100,
   "metadata": {},
   "outputs": [
    {
     "name": "stdout",
     "output_type": "stream",
     "text": [
      "Azure AI Studio client created successfully.\n"
     ]
    }
   ],
   "source": [
    "from azure.ai.projects import AIProjectClient\n",
    "from azure.identity import DefaultAzureCredential\n",
    "\n",
    "try:\n",
    "    # Initialize the Azure AI Project client\n",
    "    project_client = AIProjectClient.from_connection_string(\n",
    "        credential=DefaultAzureCredential(),\n",
    "        conn_str=os.environ[\"PROJECT_CONNECTION_STRING\"],\n",
    "    )\n",
    "\n",
    "    print(\"Azure AI Studio client created successfully.\")\n",
    "\n",
    "except Exception as e:\n",
    "    print(f\"Error creating the project client: {e}\")"
   ]
  },
  {
   "cell_type": "markdown",
   "metadata": {},
   "source": [
    "### Step 2: Initializing the Azure Agent Client\n",
    "Next, we’ll initialize the Azure Agent Runtime client. The Azure Agent Client serves as the interface to interact with Azure OpenAI services. "
   ]
  },
  {
   "cell_type": "code",
   "execution_count": 101,
   "metadata": {},
   "outputs": [
    {
     "name": "stdout",
     "output_type": "stream",
     "text": [
      "Agent Client created successfully.\n"
     ]
    }
   ],
   "source": [
    "agent_client = project_client.agents\n",
    "\n",
    "print(f\"Agent Client created successfully.\")"
   ]
  },
  {
   "cell_type": "markdown",
   "metadata": {},
   "source": [
    "## **Data Processing**"
   ]
  },
  {
   "cell_type": "markdown",
   "metadata": {},
   "source": [
    "### Step 1: Convert Excel files to Markdown\n",
    "Azure OpenAI Agents require data in specific file formats for processing. Since Excel files aren’t natively supported, our files need to be converted to Markdown tables in separate Markdown files. This step involves:\n",
    "\n",
    "- Reading Excel files using pandas.\n",
    "- Writing the data into Markdown format for compatibility."
   ]
  },
  {
   "cell_type": "code",
   "execution_count": 102,
   "metadata": {},
   "outputs": [
    {
     "name": "stdout",
     "output_type": "stream",
     "text": [
      "Workbook 'data\\SalesOrder_43659.xlsx' successfully loaded.\n",
      "Markdown file 'data\\uploads\\SalesOrder_43659.md' successfully written.\n",
      "Workbook 'data\\SalesOrder_43661.xlsx' successfully loaded.\n",
      "Markdown file 'data\\uploads\\SalesOrder_43661.md' successfully written.\n",
      "Workbook 'data\\SalesOrder_43662.xlsx' successfully loaded.\n",
      "Markdown file 'data\\uploads\\SalesOrder_43662.md' successfully written.\n",
      "Workbook 'data\\SalesOrder_43665.xlsx' successfully loaded.\n",
      "Markdown file 'data\\uploads\\SalesOrder_43665.md' successfully written.\n"
     ]
    }
   ],
   "source": [
    "import pandas as pd\n",
    "\n",
    "# Define paths\n",
    "output_dir = \"uploads\"\n",
    "data_dir_path = \"data\"\n",
    "sales_order_files = [\"SalesOrder_43659.xlsx\", \"SalesOrder_43661.xlsx\", \"SalesOrder_43662.xlsx\", \"SalesOrder_43665.xlsx\"]\n",
    "output_dir_path = os.path.join(data_dir_path, output_dir)\n",
    "\n",
    "# Ensure output directory exists\n",
    "if not os.path.exists(output_dir_path):\n",
    "    os.makedirs(output_dir_path)\n",
    "\n",
    "# Prefix the data directory path to each file\n",
    "sales_order_files = [os.path.join(data_dir_path, curr_file) for curr_file in sales_order_files]\n",
    "\n",
    "# Store the uploaded file IDs to be used later when enabling File Search\n",
    "markdown_file_paths = []\n",
    "\n",
    "for curr_file in sales_order_files:\n",
    "    try:\n",
    "        # Check if the file exists\n",
    "        if not os.path.exists(curr_file):\n",
    "            raise FileNotFoundError(f\"The file '{curr_file}' does not exist.\")\n",
    "\n",
    "        # Load the Excel File into a DataFrame\n",
    "        df = pd.read_excel(curr_file)\n",
    "        print(f\"Workbook '{curr_file}' successfully loaded.\")\n",
    "\n",
    "        # Get the base name of the Excel file without the extension\n",
    "        base_name = os.path.splitext(os.path.basename(curr_file))[0]\n",
    "\n",
    "        # Convert the DataFrame to a Markdown table\n",
    "        md_tbl_str = df.to_markdown(index=False, tablefmt=\"pipe\")\n",
    "        \n",
    "        # Define the output file name\n",
    "        output_file = os.path.join(output_dir_path, f\"{base_name}.md\")\n",
    "        markdown_file_paths.append(output_file)\n",
    "        \n",
    "        # Write the Markdown table to the file\n",
    "        with open(output_file, \"w\") as f:\n",
    "            f.write(md_tbl_str)\n",
    "\n",
    "        print(f\"Markdown file '{output_file}' successfully written.\")\n",
    "\n",
    "    except FileNotFoundError as e:\n",
    "        print(f\"Error: {e}\")\n",
    "\n",
    "    except Exception as e:\n",
    "        print(f\"An error occurred while processing the Excel file '{curr_file}': {e}\")"
   ]
  },
  {
   "cell_type": "markdown",
   "metadata": {},
   "source": [
    "### Step 2: Upload Markdown file(s) to Azure OpenAI deployment\n",
    "Next, we'll upload the markdown files from the local directory, `data\\uploads`, to the Azure OpenAI Project Deployment. Before uploading, any markdown files in the project with the same name are removed to ensure the latest versions are used and to prevent duplicates. This step efficiently manages cleanup and file upload."
   ]
  },
  {
   "cell_type": "code",
   "execution_count": 103,
   "metadata": {},
   "outputs": [
    {
     "name": "stdout",
     "output_type": "stream",
     "text": [
      "Processing File 'data\\uploads\\SalesOrder_43659.md'...\n",
      "An error occurred while processing the Excel file: JSON is invalid: Expecting value: line 1 column 1 (char 0)\n",
      "Content: Exception Type: BadRequestException\n",
      "Message: There are more than one Azure Open AI connections associated with this project. Enterprise agents is only supported when project has 1 Azure Open AI connection\n",
      "Stack Trace:    at Microsoft.MachineLearning.Rag.EntryPoints.Transforms.ProjectProxyTransform.GetAOAIConnection(ConnectionCategory connectionCategory, Guid subscriptionId, String resourceGroupName, String workspaceName) in /mnt/vss/_work/1/s/src/azureml-api/src/RAG/EntryPoints/Transforms/ProjectProxyTransform.cs:line 498\n",
      "   at Microsoft.MachineLearning.Rag.EntryPoints.Transforms.ProjectProxyTransform.<Apply>b__18_0(RequestTransformContext transformContext) in /mnt/vss/_work/1/s/src/azureml-api/src/RAG/EntryPoints/Transforms/ProjectProxyTransform.cs:line 209\n",
      "\n"
     ]
    },
    {
     "ename": "DecodeError",
     "evalue": "JSON is invalid: Expecting value: line 1 column 1 (char 0)\nContent: Exception Type: BadRequestException\nMessage: There are more than one Azure Open AI connections associated with this project. Enterprise agents is only supported when project has 1 Azure Open AI connection\nStack Trace:    at Microsoft.MachineLearning.Rag.EntryPoints.Transforms.ProjectProxyTransform.GetAOAIConnection(ConnectionCategory connectionCategory, Guid subscriptionId, String resourceGroupName, String workspaceName) in /mnt/vss/_work/1/s/src/azureml-api/src/RAG/EntryPoints/Transforms/ProjectProxyTransform.cs:line 498\n   at Microsoft.MachineLearning.Rag.EntryPoints.Transforms.ProjectProxyTransform.<Apply>b__18_0(RequestTransformContext transformContext) in /mnt/vss/_work/1/s/src/azureml-api/src/RAG/EntryPoints/Transforms/ProjectProxyTransform.cs:line 209\n",
     "output_type": "error",
     "traceback": [
      "\u001b[1;31m---------------------------------------------------------------------------\u001b[0m",
      "\u001b[1;31mJSONDecodeError\u001b[0m                           Traceback (most recent call last)",
      "File \u001b[1;32mc:\\Developer\\repos\\github\\azure-ai-agents\\samples\\investment_advisor\\.venv\\Lib\\site-packages\\azure\\core\\pipeline\\policies\\_universal.py:609\u001b[0m, in \u001b[0;36mContentDecodePolicy.deserialize_from_text\u001b[1;34m(cls, data, mime_type, response)\u001b[0m\n\u001b[0;32m    608\u001b[0m \u001b[38;5;28;01mtry\u001b[39;00m:\n\u001b[1;32m--> 609\u001b[0m     \u001b[38;5;28;01mreturn\u001b[39;00m \u001b[43mjson\u001b[49m\u001b[38;5;241;43m.\u001b[39;49m\u001b[43mloads\u001b[49m\u001b[43m(\u001b[49m\u001b[43mdata_as_str\u001b[49m\u001b[43m)\u001b[49m\n\u001b[0;32m    610\u001b[0m \u001b[38;5;28;01mexcept\u001b[39;00m \u001b[38;5;167;01mValueError\u001b[39;00m \u001b[38;5;28;01mas\u001b[39;00m err:\n",
      "File \u001b[1;32m~\\AppData\\Local\\Programs\\Python\\Python312\\Lib\\json\\__init__.py:346\u001b[0m, in \u001b[0;36mloads\u001b[1;34m(s, cls, object_hook, parse_float, parse_int, parse_constant, object_pairs_hook, **kw)\u001b[0m\n\u001b[0;32m    343\u001b[0m \u001b[38;5;28;01mif\u001b[39;00m (\u001b[38;5;28mcls\u001b[39m \u001b[38;5;129;01mis\u001b[39;00m \u001b[38;5;28;01mNone\u001b[39;00m \u001b[38;5;129;01mand\u001b[39;00m object_hook \u001b[38;5;129;01mis\u001b[39;00m \u001b[38;5;28;01mNone\u001b[39;00m \u001b[38;5;129;01mand\u001b[39;00m\n\u001b[0;32m    344\u001b[0m         parse_int \u001b[38;5;129;01mis\u001b[39;00m \u001b[38;5;28;01mNone\u001b[39;00m \u001b[38;5;129;01mand\u001b[39;00m parse_float \u001b[38;5;129;01mis\u001b[39;00m \u001b[38;5;28;01mNone\u001b[39;00m \u001b[38;5;129;01mand\u001b[39;00m\n\u001b[0;32m    345\u001b[0m         parse_constant \u001b[38;5;129;01mis\u001b[39;00m \u001b[38;5;28;01mNone\u001b[39;00m \u001b[38;5;129;01mand\u001b[39;00m object_pairs_hook \u001b[38;5;129;01mis\u001b[39;00m \u001b[38;5;28;01mNone\u001b[39;00m \u001b[38;5;129;01mand\u001b[39;00m \u001b[38;5;129;01mnot\u001b[39;00m kw):\n\u001b[1;32m--> 346\u001b[0m     \u001b[38;5;28;01mreturn\u001b[39;00m \u001b[43m_default_decoder\u001b[49m\u001b[38;5;241;43m.\u001b[39;49m\u001b[43mdecode\u001b[49m\u001b[43m(\u001b[49m\u001b[43ms\u001b[49m\u001b[43m)\u001b[49m\n\u001b[0;32m    347\u001b[0m \u001b[38;5;28;01mif\u001b[39;00m \u001b[38;5;28mcls\u001b[39m \u001b[38;5;129;01mis\u001b[39;00m \u001b[38;5;28;01mNone\u001b[39;00m:\n",
      "File \u001b[1;32m~\\AppData\\Local\\Programs\\Python\\Python312\\Lib\\json\\decoder.py:337\u001b[0m, in \u001b[0;36mdecode\u001b[1;34m(self, s, _w)\u001b[0m\n\u001b[0;32m    333\u001b[0m \u001b[38;5;28;01mdef\u001b[39;00m \u001b[38;5;21mdecode\u001b[39m(\u001b[38;5;28mself\u001b[39m, s, _w\u001b[38;5;241m=\u001b[39mWHITESPACE\u001b[38;5;241m.\u001b[39mmatch):\n\u001b[0;32m    334\u001b[0m \u001b[38;5;250m    \u001b[39m\u001b[38;5;124;03m\"\"\"Return the Python representation of ``s`` (a ``str`` instance\u001b[39;00m\n\u001b[0;32m    335\u001b[0m \u001b[38;5;124;03m    containing a JSON document).\u001b[39;00m\n\u001b[0;32m    336\u001b[0m \n\u001b[1;32m--> 337\u001b[0m \u001b[38;5;124;03m    \"\"\"\u001b[39;00m\n\u001b[0;32m    338\u001b[0m     obj, end \u001b[38;5;241m=\u001b[39m \u001b[38;5;28mself\u001b[39m\u001b[38;5;241m.\u001b[39mraw_decode(s, idx\u001b[38;5;241m=\u001b[39m_w(s, \u001b[38;5;241m0\u001b[39m)\u001b[38;5;241m.\u001b[39mend())\n",
      "File \u001b[1;32m~\\AppData\\Local\\Programs\\Python\\Python312\\Lib\\json\\decoder.py:355\u001b[0m, in \u001b[0;36mraw_decode\u001b[1;34m(self, s, idx)\u001b[0m\n\u001b[0;32m    354\u001b[0m     obj, end \u001b[38;5;241m=\u001b[39m \u001b[38;5;28mself\u001b[39m\u001b[38;5;241m.\u001b[39mscan_once(s, idx)\n\u001b[1;32m--> 355\u001b[0m \u001b[38;5;28;01mexcept\u001b[39;00m \u001b[38;5;167;01mStopIteration\u001b[39;00m \u001b[38;5;28;01mas\u001b[39;00m err:\n\u001b[0;32m    356\u001b[0m     \u001b[38;5;28;01mraise\u001b[39;00m JSONDecodeError(\u001b[38;5;124m\"\u001b[39m\u001b[38;5;124mExpecting value\u001b[39m\u001b[38;5;124m\"\u001b[39m, s, err\u001b[38;5;241m.\u001b[39mvalue) \u001b[38;5;28;01mfrom\u001b[39;00m \u001b[38;5;28;01mNone\u001b[39;00m\n",
      "\u001b[1;31mJSONDecodeError\u001b[0m: Expecting value: line 1 column 1 (char 0)",
      "\nThe above exception was the direct cause of the following exception:\n",
      "\u001b[1;31mDecodeError\u001b[0m                               Traceback (most recent call last)",
      "Cell \u001b[1;32mIn[103], line 16\u001b[0m\n\u001b[0;32m     13\u001b[0m \u001b[38;5;28mprint\u001b[39m(\u001b[38;5;124mf\u001b[39m\u001b[38;5;124m\"\u001b[39m\u001b[38;5;124mProcessing File \u001b[39m\u001b[38;5;124m'\u001b[39m\u001b[38;5;132;01m{\u001b[39;00mlocal_file_path\u001b[38;5;132;01m}\u001b[39;00m\u001b[38;5;124m'\u001b[39m\u001b[38;5;124m...\u001b[39m\u001b[38;5;124m\"\u001b[39m)\n\u001b[0;32m     15\u001b[0m \u001b[38;5;66;03m# Check if the file already exists in the cloud, and delete it if it does\u001b[39;00m\n\u001b[1;32m---> 16\u001b[0m \u001b[38;5;28;01mfor\u001b[39;00m cloud_file \u001b[38;5;129;01min\u001b[39;00m \u001b[43magent_client\u001b[49m\u001b[38;5;241;43m.\u001b[39;49m\u001b[43mlist_files\u001b[49m\u001b[43m(\u001b[49m\u001b[43m)\u001b[49m\u001b[38;5;241m.\u001b[39mdata:\n\u001b[0;32m     17\u001b[0m     \u001b[38;5;28;01mif\u001b[39;00m cloud_file\u001b[38;5;241m.\u001b[39mfilename \u001b[38;5;241m==\u001b[39m local_file:\n\u001b[0;32m     18\u001b[0m         agent_client\u001b[38;5;241m.\u001b[39mdelete_file(cloud_file\u001b[38;5;241m.\u001b[39mid)\n",
      "File \u001b[1;32mc:\\Developer\\repos\\github\\azure-ai-agents\\samples\\investment_advisor\\.venv\\Lib\\site-packages\\azure\\core\\tracing\\decorator.py:105\u001b[0m, in \u001b[0;36mdistributed_trace.<locals>.decorator.<locals>.wrapper_use_tracer\u001b[1;34m(*args, **kwargs)\u001b[0m\n\u001b[0;32m    103\u001b[0m span_impl_type \u001b[38;5;241m=\u001b[39m settings\u001b[38;5;241m.\u001b[39mtracing_implementation()\n\u001b[0;32m    104\u001b[0m \u001b[38;5;28;01mif\u001b[39;00m span_impl_type \u001b[38;5;129;01mis\u001b[39;00m \u001b[38;5;28;01mNone\u001b[39;00m:\n\u001b[1;32m--> 105\u001b[0m     \u001b[38;5;28;01mreturn\u001b[39;00m \u001b[43mfunc\u001b[49m\u001b[43m(\u001b[49m\u001b[38;5;241;43m*\u001b[39;49m\u001b[43margs\u001b[49m\u001b[43m,\u001b[49m\u001b[43m \u001b[49m\u001b[38;5;241;43m*\u001b[39;49m\u001b[38;5;241;43m*\u001b[39;49m\u001b[43mkwargs\u001b[49m\u001b[43m)\u001b[49m\n\u001b[0;32m    107\u001b[0m \u001b[38;5;66;03m# Merge span is parameter is set, but only if no explicit parent are passed\u001b[39;00m\n\u001b[0;32m    108\u001b[0m \u001b[38;5;28;01mif\u001b[39;00m merge_span \u001b[38;5;129;01mand\u001b[39;00m \u001b[38;5;129;01mnot\u001b[39;00m passed_in_parent:\n",
      "File \u001b[1;32mc:\\Developer\\repos\\github\\azure-ai-agents\\samples\\investment_advisor\\.venv\\Lib\\site-packages\\azure\\ai\\projects\\operations\\_operations.py:4632\u001b[0m, in \u001b[0;36mAgentsOperations.list_files\u001b[1;34m(self, purpose, **kwargs)\u001b[0m\n\u001b[0;32m   4629\u001b[0m _request\u001b[38;5;241m.\u001b[39murl \u001b[38;5;241m=\u001b[39m \u001b[38;5;28mself\u001b[39m\u001b[38;5;241m.\u001b[39m_client\u001b[38;5;241m.\u001b[39mformat_url(_request\u001b[38;5;241m.\u001b[39murl, \u001b[38;5;241m*\u001b[39m\u001b[38;5;241m*\u001b[39mpath_format_arguments)\n\u001b[0;32m   4631\u001b[0m _stream \u001b[38;5;241m=\u001b[39m kwargs\u001b[38;5;241m.\u001b[39mpop(\u001b[38;5;124m\"\u001b[39m\u001b[38;5;124mstream\u001b[39m\u001b[38;5;124m\"\u001b[39m, \u001b[38;5;28;01mFalse\u001b[39;00m)\n\u001b[1;32m-> 4632\u001b[0m pipeline_response: PipelineResponse \u001b[38;5;241m=\u001b[39m \u001b[38;5;28;43mself\u001b[39;49m\u001b[38;5;241;43m.\u001b[39;49m\u001b[43m_client\u001b[49m\u001b[38;5;241;43m.\u001b[39;49m\u001b[43m_pipeline\u001b[49m\u001b[38;5;241;43m.\u001b[39;49m\u001b[43mrun\u001b[49m\u001b[43m(\u001b[49m\u001b[43m  \u001b[49m\u001b[38;5;66;43;03m# pylint: disable=protected-access\u001b[39;49;00m\n\u001b[0;32m   4633\u001b[0m \u001b[43m    \u001b[49m\u001b[43m_request\u001b[49m\u001b[43m,\u001b[49m\u001b[43m \u001b[49m\u001b[43mstream\u001b[49m\u001b[38;5;241;43m=\u001b[39;49m\u001b[43m_stream\u001b[49m\u001b[43m,\u001b[49m\u001b[43m \u001b[49m\u001b[38;5;241;43m*\u001b[39;49m\u001b[38;5;241;43m*\u001b[39;49m\u001b[43mkwargs\u001b[49m\n\u001b[0;32m   4634\u001b[0m \u001b[43m\u001b[49m\u001b[43m)\u001b[49m\n\u001b[0;32m   4636\u001b[0m response \u001b[38;5;241m=\u001b[39m pipeline_response\u001b[38;5;241m.\u001b[39mhttp_response\n\u001b[0;32m   4638\u001b[0m \u001b[38;5;28;01mif\u001b[39;00m response\u001b[38;5;241m.\u001b[39mstatus_code \u001b[38;5;129;01mnot\u001b[39;00m \u001b[38;5;129;01min\u001b[39;00m [\u001b[38;5;241m200\u001b[39m]:\n",
      "File \u001b[1;32mc:\\Developer\\repos\\github\\azure-ai-agents\\samples\\investment_advisor\\.venv\\Lib\\site-packages\\azure\\core\\pipeline\\_base.py:240\u001b[0m, in \u001b[0;36mPipeline.run\u001b[1;34m(self, request, **kwargs)\u001b[0m\n\u001b[0;32m    238\u001b[0m pipeline_request: PipelineRequest[HTTPRequestType] \u001b[38;5;241m=\u001b[39m PipelineRequest(request, context)\n\u001b[0;32m    239\u001b[0m first_node \u001b[38;5;241m=\u001b[39m \u001b[38;5;28mself\u001b[39m\u001b[38;5;241m.\u001b[39m_impl_policies[\u001b[38;5;241m0\u001b[39m] \u001b[38;5;28;01mif\u001b[39;00m \u001b[38;5;28mself\u001b[39m\u001b[38;5;241m.\u001b[39m_impl_policies \u001b[38;5;28;01melse\u001b[39;00m _TransportRunner(\u001b[38;5;28mself\u001b[39m\u001b[38;5;241m.\u001b[39m_transport)\n\u001b[1;32m--> 240\u001b[0m \u001b[38;5;28;01mreturn\u001b[39;00m \u001b[43mfirst_node\u001b[49m\u001b[38;5;241;43m.\u001b[39;49m\u001b[43msend\u001b[49m\u001b[43m(\u001b[49m\u001b[43mpipeline_request\u001b[49m\u001b[43m)\u001b[49m\n",
      "File \u001b[1;32mc:\\Developer\\repos\\github\\azure-ai-agents\\samples\\investment_advisor\\.venv\\Lib\\site-packages\\azure\\core\\pipeline\\_base.py:96\u001b[0m, in \u001b[0;36m_SansIOHTTPPolicyRunner.send\u001b[1;34m(self, request)\u001b[0m\n\u001b[0;32m     94\u001b[0m _await_result(\u001b[38;5;28mself\u001b[39m\u001b[38;5;241m.\u001b[39m_policy\u001b[38;5;241m.\u001b[39mon_request, request)\n\u001b[0;32m     95\u001b[0m \u001b[38;5;28;01mtry\u001b[39;00m:\n\u001b[1;32m---> 96\u001b[0m     response \u001b[38;5;241m=\u001b[39m \u001b[38;5;28;43mself\u001b[39;49m\u001b[38;5;241;43m.\u001b[39;49m\u001b[43mnext\u001b[49m\u001b[38;5;241;43m.\u001b[39;49m\u001b[43msend\u001b[49m\u001b[43m(\u001b[49m\u001b[43mrequest\u001b[49m\u001b[43m)\u001b[49m\n\u001b[0;32m     97\u001b[0m \u001b[38;5;28;01mexcept\u001b[39;00m \u001b[38;5;167;01mException\u001b[39;00m:\n\u001b[0;32m     98\u001b[0m     _await_result(\u001b[38;5;28mself\u001b[39m\u001b[38;5;241m.\u001b[39m_policy\u001b[38;5;241m.\u001b[39mon_exception, request)\n",
      "File \u001b[1;32mc:\\Developer\\repos\\github\\azure-ai-agents\\samples\\investment_advisor\\.venv\\Lib\\site-packages\\azure\\core\\pipeline\\_base.py:96\u001b[0m, in \u001b[0;36m_SansIOHTTPPolicyRunner.send\u001b[1;34m(self, request)\u001b[0m\n\u001b[0;32m     94\u001b[0m _await_result(\u001b[38;5;28mself\u001b[39m\u001b[38;5;241m.\u001b[39m_policy\u001b[38;5;241m.\u001b[39mon_request, request)\n\u001b[0;32m     95\u001b[0m \u001b[38;5;28;01mtry\u001b[39;00m:\n\u001b[1;32m---> 96\u001b[0m     response \u001b[38;5;241m=\u001b[39m \u001b[38;5;28;43mself\u001b[39;49m\u001b[38;5;241;43m.\u001b[39;49m\u001b[43mnext\u001b[49m\u001b[38;5;241;43m.\u001b[39;49m\u001b[43msend\u001b[49m\u001b[43m(\u001b[49m\u001b[43mrequest\u001b[49m\u001b[43m)\u001b[49m\n\u001b[0;32m     97\u001b[0m \u001b[38;5;28;01mexcept\u001b[39;00m \u001b[38;5;167;01mException\u001b[39;00m:\n\u001b[0;32m     98\u001b[0m     _await_result(\u001b[38;5;28mself\u001b[39m\u001b[38;5;241m.\u001b[39m_policy\u001b[38;5;241m.\u001b[39mon_exception, request)\n",
      "    \u001b[1;31m[... skipping similar frames: _SansIOHTTPPolicyRunner.send at line 96 (1 times)]\u001b[0m\n",
      "File \u001b[1;32mc:\\Developer\\repos\\github\\azure-ai-agents\\samples\\investment_advisor\\.venv\\Lib\\site-packages\\azure\\core\\pipeline\\_base.py:96\u001b[0m, in \u001b[0;36m_SansIOHTTPPolicyRunner.send\u001b[1;34m(self, request)\u001b[0m\n\u001b[0;32m     94\u001b[0m _await_result(\u001b[38;5;28mself\u001b[39m\u001b[38;5;241m.\u001b[39m_policy\u001b[38;5;241m.\u001b[39mon_request, request)\n\u001b[0;32m     95\u001b[0m \u001b[38;5;28;01mtry\u001b[39;00m:\n\u001b[1;32m---> 96\u001b[0m     response \u001b[38;5;241m=\u001b[39m \u001b[38;5;28;43mself\u001b[39;49m\u001b[38;5;241;43m.\u001b[39;49m\u001b[43mnext\u001b[49m\u001b[38;5;241;43m.\u001b[39;49m\u001b[43msend\u001b[49m\u001b[43m(\u001b[49m\u001b[43mrequest\u001b[49m\u001b[43m)\u001b[49m\n\u001b[0;32m     97\u001b[0m \u001b[38;5;28;01mexcept\u001b[39;00m \u001b[38;5;167;01mException\u001b[39;00m:\n\u001b[0;32m     98\u001b[0m     _await_result(\u001b[38;5;28mself\u001b[39m\u001b[38;5;241m.\u001b[39m_policy\u001b[38;5;241m.\u001b[39mon_exception, request)\n",
      "File \u001b[1;32mc:\\Developer\\repos\\github\\azure-ai-agents\\samples\\investment_advisor\\.venv\\Lib\\site-packages\\azure\\core\\pipeline\\_base.py:100\u001b[0m, in \u001b[0;36m_SansIOHTTPPolicyRunner.send\u001b[1;34m(self, request)\u001b[0m\n\u001b[0;32m     98\u001b[0m     _await_result(\u001b[38;5;28mself\u001b[39m\u001b[38;5;241m.\u001b[39m_policy\u001b[38;5;241m.\u001b[39mon_exception, request)\n\u001b[0;32m     99\u001b[0m     \u001b[38;5;28;01mraise\u001b[39;00m\n\u001b[1;32m--> 100\u001b[0m \u001b[43m_await_result\u001b[49m\u001b[43m(\u001b[49m\u001b[38;5;28;43mself\u001b[39;49m\u001b[38;5;241;43m.\u001b[39;49m\u001b[43m_policy\u001b[49m\u001b[38;5;241;43m.\u001b[39;49m\u001b[43mon_response\u001b[49m\u001b[43m,\u001b[49m\u001b[43m \u001b[49m\u001b[43mrequest\u001b[49m\u001b[43m,\u001b[49m\u001b[43m \u001b[49m\u001b[43mresponse\u001b[49m\u001b[43m)\u001b[49m\n\u001b[0;32m    101\u001b[0m \u001b[38;5;28;01mreturn\u001b[39;00m response\n",
      "File \u001b[1;32mc:\\Developer\\repos\\github\\azure-ai-agents\\samples\\investment_advisor\\.venv\\Lib\\site-packages\\azure\\core\\pipeline\\_tools.py:49\u001b[0m, in \u001b[0;36mawait_result\u001b[1;34m(func, *args, **kwargs)\u001b[0m\n\u001b[0;32m     38\u001b[0m \u001b[38;5;28;01mdef\u001b[39;00m \u001b[38;5;21mawait_result\u001b[39m(func: Callable[P, T], \u001b[38;5;241m*\u001b[39margs: P\u001b[38;5;241m.\u001b[39margs, \u001b[38;5;241m*\u001b[39m\u001b[38;5;241m*\u001b[39mkwargs: P\u001b[38;5;241m.\u001b[39mkwargs) \u001b[38;5;241m-\u001b[39m\u001b[38;5;241m>\u001b[39m T:\n\u001b[0;32m     39\u001b[0m \u001b[38;5;250m    \u001b[39m\u001b[38;5;124;03m\"\"\"If func returns an awaitable, raise that this runner can't handle it.\u001b[39;00m\n\u001b[0;32m     40\u001b[0m \n\u001b[0;32m     41\u001b[0m \u001b[38;5;124;03m    :param func: The function to run.\u001b[39;00m\n\u001b[1;32m   (...)\u001b[0m\n\u001b[0;32m     47\u001b[0m \u001b[38;5;124;03m    :raises: TypeError\u001b[39;00m\n\u001b[0;32m     48\u001b[0m \u001b[38;5;124;03m    \"\"\"\u001b[39;00m\n\u001b[1;32m---> 49\u001b[0m     result \u001b[38;5;241m=\u001b[39m \u001b[43mfunc\u001b[49m\u001b[43m(\u001b[49m\u001b[38;5;241;43m*\u001b[39;49m\u001b[43margs\u001b[49m\u001b[43m,\u001b[49m\u001b[43m \u001b[49m\u001b[38;5;241;43m*\u001b[39;49m\u001b[38;5;241;43m*\u001b[39;49m\u001b[43mkwargs\u001b[49m\u001b[43m)\u001b[49m\n\u001b[0;32m     50\u001b[0m     \u001b[38;5;28;01mif\u001b[39;00m \u001b[38;5;28mhasattr\u001b[39m(result, \u001b[38;5;124m\"\u001b[39m\u001b[38;5;124m__await__\u001b[39m\u001b[38;5;124m\"\u001b[39m):\n\u001b[0;32m     51\u001b[0m         \u001b[38;5;28;01mraise\u001b[39;00m \u001b[38;5;167;01mTypeError\u001b[39;00m(\u001b[38;5;124m\"\u001b[39m\u001b[38;5;124mPolicy \u001b[39m\u001b[38;5;132;01m{}\u001b[39;00m\u001b[38;5;124m returned awaitable object in non-async pipeline.\u001b[39m\u001b[38;5;124m\"\u001b[39m\u001b[38;5;241m.\u001b[39mformat(func))\n",
      "File \u001b[1;32mc:\\Developer\\repos\\github\\azure-ai-agents\\samples\\investment_advisor\\.venv\\Lib\\site-packages\\azure\\core\\pipeline\\policies\\_universal.py:714\u001b[0m, in \u001b[0;36mContentDecodePolicy.on_response\u001b[1;34m(self, request, response)\u001b[0m\n\u001b[0;32m    710\u001b[0m     \u001b[38;5;28;01mreturn\u001b[39;00m\n\u001b[0;32m    712\u001b[0m response_encoding \u001b[38;5;241m=\u001b[39m request\u001b[38;5;241m.\u001b[39mcontext\u001b[38;5;241m.\u001b[39mget(\u001b[38;5;124m\"\u001b[39m\u001b[38;5;124mresponse_encoding\u001b[39m\u001b[38;5;124m\"\u001b[39m)\n\u001b[1;32m--> 714\u001b[0m response\u001b[38;5;241m.\u001b[39mcontext[\u001b[38;5;28mself\u001b[39m\u001b[38;5;241m.\u001b[39mCONTEXT_NAME] \u001b[38;5;241m=\u001b[39m \u001b[38;5;28;43mself\u001b[39;49m\u001b[38;5;241;43m.\u001b[39;49m\u001b[43mdeserialize_from_http_generics\u001b[49m\u001b[43m(\u001b[49m\n\u001b[0;32m    715\u001b[0m \u001b[43m    \u001b[49m\u001b[43mresponse\u001b[49m\u001b[38;5;241;43m.\u001b[39;49m\u001b[43mhttp_response\u001b[49m\u001b[43m,\u001b[49m\u001b[43m \u001b[49m\u001b[43mresponse_encoding\u001b[49m\n\u001b[0;32m    716\u001b[0m \u001b[43m\u001b[49m\u001b[43m)\u001b[49m\n",
      "File \u001b[1;32mc:\\Developer\\repos\\github\\azure-ai-agents\\samples\\investment_advisor\\.venv\\Lib\\site-packages\\azure\\core\\pipeline\\policies\\_universal.py:681\u001b[0m, in \u001b[0;36mContentDecodePolicy.deserialize_from_http_generics\u001b[1;34m(cls, response, encoding)\u001b[0m\n\u001b[0;32m    679\u001b[0m     \u001b[38;5;28;01mif\u001b[39;00m \u001b[38;5;129;01mnot\u001b[39;00m inspect\u001b[38;5;241m.\u001b[39miscoroutinefunction(response\u001b[38;5;241m.\u001b[39mread):  \u001b[38;5;66;03m# type: ignore\u001b[39;00m\n\u001b[0;32m    680\u001b[0m         response\u001b[38;5;241m.\u001b[39mread()  \u001b[38;5;66;03m# type: ignore\u001b[39;00m\n\u001b[1;32m--> 681\u001b[0m \u001b[38;5;28;01mreturn\u001b[39;00m \u001b[38;5;28;43mcls\u001b[39;49m\u001b[38;5;241;43m.\u001b[39;49m\u001b[43mdeserialize_from_text\u001b[49m\u001b[43m(\u001b[49m\u001b[43mresponse\u001b[49m\u001b[38;5;241;43m.\u001b[39;49m\u001b[43mtext\u001b[49m\u001b[43m(\u001b[49m\u001b[43mencoding\u001b[49m\u001b[43m)\u001b[49m\u001b[43m,\u001b[49m\u001b[43m \u001b[49m\u001b[43mmime_type\u001b[49m\u001b[43m,\u001b[49m\u001b[43m \u001b[49m\u001b[43mresponse\u001b[49m\u001b[38;5;241;43m=\u001b[39;49m\u001b[43mresponse\u001b[49m\u001b[43m)\u001b[49m\n",
      "File \u001b[1;32mc:\\Developer\\repos\\github\\azure-ai-agents\\samples\\investment_advisor\\.venv\\Lib\\site-packages\\azure\\core\\pipeline\\policies\\_universal.py:611\u001b[0m, in \u001b[0;36mContentDecodePolicy.deserialize_from_text\u001b[1;34m(cls, data, mime_type, response)\u001b[0m\n\u001b[0;32m    609\u001b[0m         \u001b[38;5;28;01mreturn\u001b[39;00m json\u001b[38;5;241m.\u001b[39mloads(data_as_str)\n\u001b[0;32m    610\u001b[0m     \u001b[38;5;28;01mexcept\u001b[39;00m \u001b[38;5;167;01mValueError\u001b[39;00m \u001b[38;5;28;01mas\u001b[39;00m err:\n\u001b[1;32m--> 611\u001b[0m         \u001b[38;5;28;01mraise\u001b[39;00m DecodeError(\n\u001b[0;32m    612\u001b[0m             message\u001b[38;5;241m=\u001b[39m\u001b[38;5;124m\"\u001b[39m\u001b[38;5;124mJSON is invalid: \u001b[39m\u001b[38;5;132;01m{}\u001b[39;00m\u001b[38;5;124m\"\u001b[39m\u001b[38;5;241m.\u001b[39mformat(err),\n\u001b[0;32m    613\u001b[0m             response\u001b[38;5;241m=\u001b[39mresponse,\n\u001b[0;32m    614\u001b[0m             error\u001b[38;5;241m=\u001b[39merr,\n\u001b[0;32m    615\u001b[0m         ) \u001b[38;5;28;01mfrom\u001b[39;00m \u001b[38;5;21;01merr\u001b[39;00m\n\u001b[0;32m    616\u001b[0m \u001b[38;5;28;01melif\u001b[39;00m \u001b[38;5;124m\"\u001b[39m\u001b[38;5;124mxml\u001b[39m\u001b[38;5;124m\"\u001b[39m \u001b[38;5;129;01min\u001b[39;00m (mime_type \u001b[38;5;129;01mor\u001b[39;00m []):\n\u001b[0;32m    617\u001b[0m     \u001b[38;5;28;01mtry\u001b[39;00m:\n",
      "\u001b[1;31mDecodeError\u001b[0m: JSON is invalid: Expecting value: line 1 column 1 (char 0)\nContent: Exception Type: BadRequestException\nMessage: There are more than one Azure Open AI connections associated with this project. Enterprise agents is only supported when project has 1 Azure Open AI connection\nStack Trace:    at Microsoft.MachineLearning.Rag.EntryPoints.Transforms.ProjectProxyTransform.GetAOAIConnection(ConnectionCategory connectionCategory, Guid subscriptionId, String resourceGroupName, String workspaceName) in /mnt/vss/_work/1/s/src/azureml-api/src/RAG/EntryPoints/Transforms/ProjectProxyTransform.cs:line 498\n   at Microsoft.MachineLearning.Rag.EntryPoints.Transforms.ProjectProxyTransform.<Apply>b__18_0(RequestTransformContext transformContext) in /mnt/vss/_work/1/s/src/azureml-api/src/RAG/EntryPoints/Transforms/ProjectProxyTransform.cs:line 209\n"
     ]
    }
   ],
   "source": [
    "uploaded_file_ids = []\n",
    "\n",
    "try:\n",
    "    for local_file in os.listdir(output_dir_path):\n",
    "\n",
    "        # Define the local file path\n",
    "        local_file_path = os.path.join(output_dir_path, local_file)\n",
    "\n",
    "        # Check if the file is a Markdown file\n",
    "        if not local_file.endswith(\".md\"):\n",
    "            continue\n",
    "        else:\n",
    "            print(f\"Processing File '{local_file_path}'...\")\n",
    "\n",
    "            # Check if the file already exists in the cloud, and delete it if it does\n",
    "            for cloud_file in agent_client.list_files().data:\n",
    "                if cloud_file.filename == local_file:\n",
    "                    agent_client.delete_file(cloud_file.id)\n",
    "                    print(f\"Deleted existing cloud file: '{cloud_file.filename}'\")\n",
    "\n",
    "            # Use the upload and poll SDK helper to upload the local file, add them to the vector store,\n",
    "            # and poll the status of the file batch for completion.\n",
    "            file = project_client.agents.upload_file_and_poll(file_path=local_file_path, purpose=\"assistants\")\n",
    "            uploaded_file_ids.append(file.id)\n",
    "            print(f\"Uploaded file, file ID: {file.id}\")\n",
    "            \n",
    "    print(f\"File IDs: {uploaded_file_ids}\")\n",
    "\n",
    "except FileNotFoundError:\n",
    "    print(f\"Error: The file '{curr_file}' was not found.\")\n",
    "    raise\n",
    "\n",
    "except Exception as e:\n",
    "    print(f\"An error occurred while processing the Excel file: {e}\")\n",
    "    raise"
   ]
  },
  {
   "cell_type": "markdown",
   "metadata": {},
   "source": [
    "### Step 3: Create Vector Store\n",
    "The Vector Store is used to store embeddings of uploaded files, enabling the File Search tool to efficiently locate relevant content."
   ]
  },
  {
   "cell_type": "code",
   "execution_count": null,
   "metadata": {},
   "outputs": [],
   "source": [
    "# Create a vector store called \"Financial Statements\"\n",
    "vector_store = agent_client.create_vector_store_and_poll(file_ids=uploaded_file_ids, name=\"Sales Orders\")\n",
    "print(f\"Vector store '{vector_store.name} ({vector_store.id})' created successfully.\")"
   ]
  },
  {
   "cell_type": "markdown",
   "metadata": {},
   "source": [
    "### Step 4: Create File Search Tool\n",
    "The File Search tool enables the AI agent to query the uploaded files. It uses the embeddings stored in the Vector Store to locate and retrieve relevant content."
   ]
  },
  {
   "cell_type": "code",
   "execution_count": null,
   "metadata": {},
   "outputs": [],
   "source": [
    "from azure.ai.projects.models import FileSearchTool\n",
    "\n",
    "# Create file search tool with resources followed by creating agent\n",
    "file_search = FileSearchTool(vector_store_ids=[vector_store.id])\n",
    "print(f\"File search tool created successfully for Vector Store {vector_store.name} ({vector_store.id}).\")"
   ]
  },
  {
   "cell_type": "markdown",
   "metadata": {},
   "source": [
    "## **Running the Azure OpenAI Agent**"
   ]
  },
  {
   "cell_type": "markdown",
   "metadata": {},
   "source": [
    "### Step 1: Create a Sales Analyst Agent"
   ]
  },
  {
   "cell_type": "code",
   "execution_count": null,
   "metadata": {},
   "outputs": [],
   "source": [
    "try:\n",
    "    agent = project_client.agents.create_agent(\n",
    "        model=__AZURE_OPENAI_DEPLOYMENT,\n",
    "        name=\"Sales Analyst Agent\",\n",
    "        instructions=(\n",
    "            \"You are an expert sales analyst. \"\n",
    "            \"Use your knowledge base to answer questions about company sales, customers, and products.\"\n",
    "        ),\n",
    "        tools=file_search.definitions,\n",
    "        tool_resources=file_search.resources,\n",
    "    )\n",
    "    print(f\"Agent created successfully.({agent.id})\")\n",
    "except Exception as e:\n",
    "    print(\"Error creating Agent:\", e)"
   ]
  },
  {
   "cell_type": "markdown",
   "metadata": {},
   "source": [
    "### Step 2: Start a New Converstaion\n",
    "Conversation threads in Azure OpenAI enable context-aware interactions, storing both user prompts and agent responses. This step creates a new thread for the Sales Analyst Agent to handle queries."
   ]
  },
  {
   "cell_type": "code",
   "execution_count": null,
   "metadata": {},
   "outputs": [],
   "source": [
    "# Create a conversation thread\n",
    "try:\n",
    "    thread = agent_client.create_thread()\n",
    "    print(f\"Thread created successfully ({thread.id})\")\n",
    "except Exception as e:\n",
    "    print(\"Error creating thread:\", e)"
   ]
  },
  {
   "cell_type": "markdown",
   "metadata": {},
   "source": [
    "### Step 3: Query the AI Agent\n",
    "Next, we’ll add a user message to the thread. The AI agent responds to a user-defined prompt, such as calculating revenue by region. It processes the prompt and retrieves the necessary data to deliver insights."
   ]
  },
  {
   "cell_type": "code",
   "execution_count": null,
   "metadata": {},
   "outputs": [],
   "source": [
    "# Define the user question\n",
    "prompt_content = \"How much revenue did we generate by Region and what is the percentage of revenue generated by each region?\"\n",
    "\n",
    "# Add the question to the thread\n",
    "try:\n",
    "    message = agent_client.create_message(\n",
    "        thread_id=thread.id,\n",
    "        role=\"user\",\n",
    "        content=prompt_content,\n",
    "    )\n",
    "    print(f\"Successfully added User prompt to the thread. (Message ID {message.id})\")\n",
    "except Exception as e:\n",
    "    print(\"Error adding user question:\", e)"
   ]
  },
  {
   "cell_type": "markdown",
   "metadata": {},
   "source": [
    "### Step 4: Run the AI Agent\n",
    "In this step, we instruct the AI agent to process the user’s query within the created thread. The agent analyzes the context, executes the required tools (e.g., File Search), and generates a response. The `create_and_proces_run` function triggers the agent to process the user's prompt and produce an agent output."
   ]
  },
  {
   "cell_type": "code",
   "execution_count": null,
   "metadata": {},
   "outputs": [],
   "source": [
    "# Initiate the Agent's response\n",
    "try:\n",
    "    run = agent_client.create_and_process_run(\n",
    "        thread_id=thread.id,\n",
    "        assistant_id=agent.id,\n",
    "    )\n",
    "    print(\"Run started:\", run.id)\n",
    "except Exception as e:\n",
    "    print(\"Error starting run:\", e)"
   ]
  },
  {
   "cell_type": "markdown",
   "metadata": {},
   "source": [
    "If the agent run fails, we will identify the issue. A common cause is exceeding the rate limit, requiring additional Azure quotas."
   ]
  },
  {
   "cell_type": "code",
   "execution_count": null,
   "metadata": {},
   "outputs": [],
   "source": [
    "if run.status == \"failed\":\n",
    "    # Check if you got \"Rate limit is exceeded.\", then you want to get more quota\n",
    "    print(f\"Run failed: {run.last_error}\")"
   ]
  },
  {
   "cell_type": "markdown",
   "metadata": {},
   "source": [
    "### Step 5: Extract Insights\n",
    "After the agent processes the prompt, we retrieve its responses, which contain the requested insights. This step ensures that the conversation thread is queried to fetch all relevant messages generated during the interaction."
   ]
  },
  {
   "cell_type": "code",
   "execution_count": null,
   "metadata": {},
   "outputs": [],
   "source": [
    "# Retrieves all messages from the thread in ascending order after the user message\n",
    "messages = agent_client.list_messages(thread_id=thread.id, order=\"asc\", after=message.id)\n",
    "\n",
    "print(f'Run completed!\\n\\nMESSAGES\\n')\n",
    "\n",
    "# Loop through messages and print content based on role\n",
    "for msg in messages.data:\n",
    "    role = msg.role\n",
    "    content = msg.content[0].text.value\n",
    "    print(f\"{role.capitalize()}: {content}\")"
   ]
  },
  {
   "cell_type": "markdown",
   "metadata": {},
   "source": [
    "## **Clean Up**\n",
    "\n",
    "Properly cleaning up Azure resources after completing the analysis is essential to maintain a tidy Azure AI Studio Project environment and to avoid incurring unnecessary costs."
   ]
  },
  {
   "cell_type": "markdown",
   "metadata": {},
   "source": [
    "### Step 1: Deleting the Vector Store\n",
    "Remove the Vector Store to free up storage resources."
   ]
  },
  {
   "cell_type": "code",
   "execution_count": null,
   "metadata": {},
   "outputs": [],
   "source": [
    "project_client.agents.delete_vector_store(vector_store.id)\n",
    "print(\"Deleted vector store\")"
   ]
  },
  {
   "cell_type": "markdown",
   "metadata": {},
   "source": [
    "### Step 2: Deleting Uploaded Files\n",
    "Ensure all uploaded files are removed from Azure to maintain a clean environment.\n"
   ]
  },
  {
   "cell_type": "code",
   "execution_count": null,
   "metadata": {},
   "outputs": [],
   "source": [
    "# For each file id in the list, delete the file\n",
    "for file_id in uploaded_file_ids:\n",
    "    project_client.agents.delete_file(file_id)\n",
    "    print(f\"Deleted file: {file_id}\")"
   ]
  },
  {
   "cell_type": "markdown",
   "metadata": {},
   "source": [
    "### Step 3: Deleting the AI Agent\n",
    "Remove the AI Agent to release associated resources."
   ]
  },
  {
   "cell_type": "code",
   "execution_count": null,
   "metadata": {},
   "outputs": [],
   "source": [
    "# Get agent list\n",
    "agents = agent_client.list_agents()\n",
    "\n",
    "# If the agent exists in the list, delete it\n",
    "if agent.id in [a.id for a in agents.data]:\n",
    "    response = agent_client.delete_agent(agent.id)\n",
    "    print(\"Deleted Agent Client\\n\",response)\n",
    "else:\n",
    "    print(\"Agent does not exist to delete.\")"
   ]
  }
 ],
 "metadata": {
  "kernelspec": {
   "display_name": ".venv",
   "language": "python",
   "name": "python3"
  },
  "language_info": {
   "codemirror_mode": {
    "name": "ipython",
    "version": 3
   },
   "file_extension": ".py",
   "mimetype": "text/x-python",
   "name": "python",
   "nbconvert_exporter": "python",
   "pygments_lexer": "ipython3",
   "version": "3.12.7"
  }
 },
 "nbformat": 4,
 "nbformat_minor": 2
}
