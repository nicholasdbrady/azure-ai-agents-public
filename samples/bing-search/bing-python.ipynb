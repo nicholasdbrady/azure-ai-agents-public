{
 "cells": [
  {
   "cell_type": "code",
   "execution_count": 2,
   "metadata": {},
   "outputs": [
    {
     "name": "stdout",
     "output_type": "stream",
     "text": [
      "/subscriptions/1278a874-89fc-418c-b6b9-ac763b000415/resourceGroups/aiagents-demo/providers/Microsoft.MachineLearningServices/workspaces/ai-standard-project-hz7g/connections/binggrounding\n",
      "Created agent, ID: asst_iXdVO3pbqyOCMBAme1yXmYF1\n",
      "Created thread, ID: thread_yJmMqFZiIHUVPf6lL928JKRk\n",
      "Created message, ID: msg_OPrybrBJ0YKsvSVaTGQYWv2s\n",
      "Run finished with status: RunStatus.COMPLETED\n",
      "Deleted agent\n",
      "Messages: {'object': 'list', 'data': [{'id': 'msg_LRuEZpjW72yyrhnC3WbPlCuk', 'object': 'thread.message', 'created_at': 1732167496, 'assistant_id': 'asst_iXdVO3pbqyOCMBAme1yXmYF1', 'thread_id': 'thread_yJmMqFZiIHUVPf6lL928JKRk', 'run_id': 'run_9WzjmNRVrqIm6WAZhycIVxIB', 'role': 'assistant', 'content': [{'type': 'text', 'text': {'value': 'Today in Seattle, the weather is expected to be rainy. The conditions include showers and less wind compared to recent days【5†source】. Expect temperatures around 50°F during the day and down to 45°F at night【13†source】.', 'annotations': [{'type': 'url_citation', 'text': '【5†source】', 'start_index': 123, 'end_index': 133, 'url_citation': {'url': 'https://www.timeanddate.com/weather/usa/seattle/historic', 'title': 'Past Weather in Seattle, Washington, USA — Yesterday or Further Back'}}, {'type': 'url_citation', 'text': '【13†source】', 'start_index': 207, 'end_index': 218, 'url_citation': {'url': 'https://www.weathertab.com/en/c/e/11/united-states/washington/seattle/', 'title': 'Detailed Seattle Weather Forecast for November 2024: Daily ...'}}]}}], 'attachments': [], 'metadata': {}}, {'id': 'msg_OPrybrBJ0YKsvSVaTGQYWv2s', 'object': 'thread.message', 'created_at': 1732167492, 'assistant_id': None, 'thread_id': 'thread_yJmMqFZiIHUVPf6lL928JKRk', 'run_id': None, 'role': 'user', 'content': [{'type': 'text', 'text': {'value': 'How is the weather in Seattle today?', 'annotations': []}}], 'attachments': [], 'metadata': {}}], 'first_id': 'msg_LRuEZpjW72yyrhnC3WbPlCuk', 'last_id': 'msg_OPrybrBJ0YKsvSVaTGQYWv2s', 'has_more': False}\n"
     ]
    }
   ],
   "source": [
    "from dotenv import load_dotenv\n",
    "import os\n",
    "from azure.ai.projects import AIProjectClient\n",
    "from azure.identity import DefaultAzureCredential\n",
    "from azure.ai.projects.models import BingGroundingTool\n",
    "\n",
    "# Load environment variables from .env file\n",
    "load_dotenv()\n",
    "\n",
    "project_client = AIProjectClient(\n",
    "    endpoint=os.getenv(\"ENDPOINT\"),\n",
    "    subscription_id=os.getenv(\"SUBSCRIPTION_ID\"),\n",
    "    resource_group_name=os.getenv(\"RESOURCE_GROUP_NAME\"),\n",
    "    project_name=os.getenv(\"PROJECT_NAME\"),\n",
    "    credential=DefaultAzureCredential()\n",
    ")\n",
    "\n",
    "bing_connection = project_client.connections.get(\n",
    "    connection_name=os.getenv(\"BING_CONNECTION_NAME\")\n",
    ")\n",
    "conn_id = bing_connection.id\n",
    "print(conn_id)\n",
    "\n",
    "# Initialize agent bing tool and add the connection id\n",
    "bing = BingGroundingTool(connection_id=conn_id)\n",
    "\n",
    "# Create agent with the bing tool and process assistant run\n",
    "with project_client:\n",
    "    agent = project_client.agents.create_agent(\n",
    "        model=\"gpt-4o\",\n",
    "        name=\"bing_agent\",\n",
    "        instructions=\"You are a helpful assistant\",\n",
    "        tools=bing.definitions,\n",
    "        headers={\"x-ms-enable-preview\": \"true\"}\n",
    "    )\n",
    "    print(f\"Created agent, ID: {agent.id}\")\n",
    "\n",
    "    # Create thread for communication\n",
    "    thread = project_client.agents.create_thread()\n",
    "    print(f\"Created thread, ID: {thread.id}\")\n",
    "\n",
    "    # Create message to thread\n",
    "    message = project_client.agents.create_message(\n",
    "        thread_id=thread.id,\n",
    "        role=\"user\",\n",
    "        content=\"How is the weather in Seattle today?\",\n",
    "    )\n",
    "    print(f\"Created message, ID: {message.id}\")\n",
    "\n",
    "    # Create and process agent run in thread with tools\n",
    "    run = project_client.agents.create_and_process_run(thread_id=thread.id, assistant_id=agent.id)\n",
    "    print(f\"Run finished with status: {run.status}\")\n",
    "\n",
    "    if run.status == \"failed\":\n",
    "        print(f\"Run failed: {run.last_error}\")\n",
    "\n",
    "    # Delete the assistant when done\n",
    "    project_client.agents.delete_agent(agent.id)\n",
    "    print(\"Deleted agent\")\n",
    "\n",
    "    # Fetch and log all messages\n",
    "    messages = project_client.agents.list_messages(thread_id=thread.id)\n",
    "    print(f\"Messages: {messages}\")\n"
   ]
  }
 ],
 "metadata": {
  "kernelspec": {
   "display_name": ".venv",
   "language": "python",
   "name": "python3"
  },
  "language_info": {
   "codemirror_mode": {
    "name": "ipython",
    "version": 3
   },
   "file_extension": ".py",
   "mimetype": "text/x-python",
   "name": "python",
   "nbconvert_exporter": "python",
   "pygments_lexer": "ipython3",
   "version": "3.11.9"
  }
 },
 "nbformat": 4,
 "nbformat_minor": 2
}
